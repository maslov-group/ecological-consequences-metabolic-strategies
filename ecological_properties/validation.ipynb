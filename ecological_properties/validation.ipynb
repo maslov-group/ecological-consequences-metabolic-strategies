{
 "cells": [
  {
   "cell_type": "code",
   "execution_count": 1,
   "metadata": {},
   "outputs": [],
   "source": [
    "import itertools\n",
    "import numpy as np\n",
    "import random\n",
    "import pickle\n",
    "import matplotlib.pyplot as plt\n",
    "from math import *\n",
    "import scipy\n",
    "from tqdm import tqdm\n",
    "\n",
    "from utils import *\n",
    "\n",
    "import matplotlib as mpl\n",
    "import seaborn as sns"
   ]
  },
  {
   "cell_type": "code",
   "execution_count": 13,
   "metadata": {},
   "outputs": [],
   "source": [
    "# just for validation of several things. \n",
    "# 1) for the given rho*, the randomly generated diauxers and the coutilizers have roughly the same growth rates on first niche\n",
    "all_diaux = []\n",
    "all_cout = []\n",
    "\n",
    "filename = \"../data/semismart_diaux_hwa_D=100_diagonal_2_6_rho_0213.pkl\"\n",
    "data = pickle.load(open(filename, \"rb\"))\n",
    "R = 4\n",
    "for R in range(2, 5):\n",
    "    N = R\n",
    "    communities = []\n",
    "    stabilities = []\n",
    "    stable = 0\n",
    "    feasible = 0\n",
    "    for item in data:\n",
    "        if(item[\"R\"]==R):\n",
    "            communities = item[\"communities\"]\n",
    "            break\n",
    "    logD, gC = item[\"logD\"], item[\"gC\"]\n",
    "    for item in communities:\n",
    "        g_enz, rhos = item[\"g\"], item[\"rho\"]\n",
    "        rho_expand = np.tile(rhos, (R, 1))\n",
    "        g_real = 1/(1/(g_enz*(rho_expand+(1-rho_expand)*R))+1/gC)\n",
    "        all_diaux.extend(list(np.max(g_real, axis=1)))\n",
    "\n",
    "filename = \"../data/cout_hwa_D=100_diagonal_2_6_rho_0213.pkl\"\n",
    "data = pickle.load(open(filename, \"rb\"))\n",
    "R = 4\n",
    "for R in range(2, 5):\n",
    "    N = R\n",
    "    communities = []\n",
    "    stabilities = []\n",
    "    stable = 0\n",
    "    feasible = 0\n",
    "    for item in data:\n",
    "        if(item[\"R\"]==R):\n",
    "            communities = item[\"communities\"]\n",
    "            break\n",
    "    logD, gC = item[\"logD\"], item[\"gC\"]\n",
    "    for item in communities:\n",
    "        g_enz, rhos = item[\"g\"], item[\"rho\"]\n",
    "        g = 1/(1/np.sum(g_enz, axis=1)+1/gC)\n",
    "        all_cout.extend(list(g))"
   ]
  },
  {
   "cell_type": "code",
   "execution_count": 17,
   "metadata": {},
   "outputs": [
    {
     "data": {
      "text/plain": [
       "(array([2.0000e+00, 4.1000e+01, 5.4200e+02, 3.2460e+03, 9.0470e+03,\n",
       "        9.3470e+03, 1.6564e+04, 2.5806e+04, 2.3915e+04, 1.4900e+03]),\n",
       " array([0.53205278, 0.60037945, 0.66870613, 0.7370328 , 0.80535947,\n",
       "        0.87368615, 0.94201282, 1.0103395 , 1.07866617, 1.14699284,\n",
       "        1.21531952]),\n",
       " <BarContainer object of 10 artists>)"
      ]
     },
     "execution_count": 17,
     "metadata": {},
     "output_type": "execute_result"
    },
    {
     "data": {
      "image/png": "[encoded data removed]",
      "text/plain": [
       "<Figure size 640x480 with 1 Axes>"
      ]
     },
     "metadata": {},
     "output_type": "display_data"
    }
   ],
   "source": [
    "plt.hist(all_cout)\n",
    "plt.hist(all_diaux)"
   ]
  },
  {
   "cell_type": "code",
   "execution_count": null,
   "metadata": {},
   "outputs": [],
   "source": []
  },
  {
   "cell_type": "code",
   "execution_count": null,
   "metadata": {},
   "outputs": [],
   "source": []
  }
 ],
 "metadata": {
  "kernelspec": {
   "display_name": "sci-comp",
   "language": "python",
   "name": "python3"
  },
  "language_info": {
   "codemirror_mode": {
    "name": "ipython",
    "version": 3
   },
   "file_extension": ".py",
   "mimetype": "text/x-python",
   "name": "python",
   "nbconvert_exporter": "python",
   "pygments_lexer": "ipython3",
   "version": "3.8.18"
  }
 },
 "nbformat": 4,
 "nbformat_minor": 2
}
